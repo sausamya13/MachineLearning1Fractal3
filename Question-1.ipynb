{
 "cells": [
  {
   "cell_type": "markdown",
   "id": "f0469395",
   "metadata": {},
   "source": [
    "Name - Sausamya Mitra"
   ]
  },
  {
   "cell_type": "markdown",
   "id": "ac77594c",
   "metadata": {},
   "source": [
    "Roll No - M22AI627"
   ]
  },
  {
   "cell_type": "markdown",
   "id": "dda2a008",
   "metadata": {},
   "source": [
    "Problem 1: Perceptron"
   ]
  },
  {
   "cell_type": "code",
   "execution_count": 11,
   "id": "10f916e3",
   "metadata": {},
   "outputs": [
    {
     "name": "stdout",
     "output_type": "stream",
     "text": [
      "Iteration 1: w = [1.2 0.7]\n",
      "Iteration 2: w = [1.4 0.4]\n",
      "Iteration 3: w = [1.6 0.1]\n",
      "Iteration 4: w = [ 1.8 -0.2]\n",
      "Iteration 5: w = [ 1.9 -0.5]\n",
      "Iteration 6: w = [ 1.9 -0.5]\n",
      "-----Converged after 6 iterations------\n",
      "Final weight vector:- [ 1.9 -0.5]\n",
      "Final bias:- 0\n"
     ]
    }
   ],
   "source": [
    "#importing the libraries\n",
    "import numpy as np\n",
    "\n",
    "# Defining the training samples\n",
    "X = np.array([[1, 1], [-1, -1], [0, 0.5], [0.1, 0.5], [0.2, 0.2], [0.9, 0.5]])\n",
    "y = np.array([1, -1, -1, -1, 1, 1])\n",
    "\n",
    "# Initializing the weight vector and bias\n",
    "w = np.array([1, 1])\n",
    "b = 0\n",
    "\n",
    "# Setting the learning rate and maximum number of iterations\n",
    "alpha = 1\n",
    "max_iter = 1000\n",
    "\n",
    "# Implementing the perceptron learning algorithm\n",
    "for i in range(max_iter):\n",
    "    # Initializing the number of misclassifications to 0\n",
    "    misclassified = 0\n",
    "    # Iterating over each training sample\n",
    "    for j in range(len(X)):\n",
    "        # Computing the predicted output\n",
    "        y_hat = np.dot(w, X[j]) + b\n",
    "        # Updating the weight vector and bias if there is a misclassification\n",
    "        if np.sign(y_hat) != y[j]:\n",
    "            w = w + alpha * y[j] * X[j]\n",
    "            b = b + alpha * y[j]\n",
    "            misclassified += 1\n",
    "    print(f\"Iteration {i+1}: w = {w}\")\n",
    "    # If there are no misclassifications, terminate the algorithm\n",
    "    if misclassified == 0:\n",
    "        print(f\"-----Converged after {i+1} iterations------\")\n",
    "        break\n",
    "\n",
    "# Print the final weight vector and bias\n",
    "print(\"Final weight vector:-\", w)\n",
    "print(\"Final bias:-\", b)\n"
   ]
  },
  {
   "cell_type": "code",
   "execution_count": null,
   "id": "0d04b83b",
   "metadata": {},
   "outputs": [],
   "source": []
  }
 ],
 "metadata": {
  "kernelspec": {
   "display_name": "Python 3 (ipykernel)",
   "language": "python",
   "name": "python3"
  },
  "language_info": {
   "codemirror_mode": {
    "name": "ipython",
    "version": 3
   },
   "file_extension": ".py",
   "mimetype": "text/x-python",
   "name": "python",
   "nbconvert_exporter": "python",
   "pygments_lexer": "ipython3",
   "version": "3.10.9"
  }
 },
 "nbformat": 4,
 "nbformat_minor": 5
}
